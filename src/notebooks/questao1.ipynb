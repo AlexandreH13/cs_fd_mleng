{
 "cells": [
  {
   "cell_type": "code",
   "execution_count": 2,
   "metadata": {},
   "outputs": [],
   "source": [
    "import pandas as pd"
   ]
  },
  {
   "cell_type": "code",
   "execution_count": 3,
   "metadata": {},
   "outputs": [],
   "source": [
    "# Simulando os dados das tabelas como DataFrames\n",
    "customer_orders = pd.DataFrame({\n",
    "    \"order_id\": [1, 2, 3],\n",
    "    \"customer_name\": [\"John Doe\", \"Jane Smith\", \"Alice Johnson\"],\n",
    "    \"customer_id\": [1, 2, 3]\n",
    "})\n",
    "\n",
    "address_details = pd.DataFrame({\n",
    "    \"address_id\": [1, 2, 3, 4, 5, 6],\n",
    "    \"order_id\": [1, 2, 3, 1, 2, 3],\n",
    "    \"address\": [\"123 Main Street\", \"456 Maple Avenue\", \"789 Elm Road\", \"-\", \"\", \"SOME ADDRESS\"],\n",
    "    \"state\": [\"NY\", \"CA\", \"TX\", \"NY\", \"CA\", \"TX\"],\n",
    "    \"country\": [\"USA\", \"USA\", \"USA\", \"USA\", \"USA\", \"USA\"],\n",
    "    \"zip_code\": [\"10001\", \"90001\", \"75001\", \"10002\", \"90002\", \"75002\"]\n",
    "})\n",
    "\n"
   ]
  },
  {
   "cell_type": "code",
   "execution_count": 5,
   "metadata": {},
   "outputs": [],
   "source": [
    "address_details[\"address_length\"] = address_details[\"address\"].str.len()\n",
    "\n",
    "result = (\n",
    "    customer_orders\n",
    "    .merge(address_details, on=\"order_id\")\n",
    "    .query(\"address_length >= 5 and address not in ['-', '', 'SOME ADDRESS']\")\n",
    "    .sort_values(by=\"order_id\")\n",
    ")\n"
   ]
  },
  {
   "cell_type": "code",
   "execution_count": 6,
   "metadata": {},
   "outputs": [
    {
     "data": {
      "text/html": [
       "<div>\n",
       "<style scoped>\n",
       "    .dataframe tbody tr th:only-of-type {\n",
       "        vertical-align: middle;\n",
       "    }\n",
       "\n",
       "    .dataframe tbody tr th {\n",
       "        vertical-align: top;\n",
       "    }\n",
       "\n",
       "    .dataframe thead th {\n",
       "        text-align: right;\n",
       "    }\n",
       "</style>\n",
       "<table border=\"1\" class=\"dataframe\">\n",
       "  <thead>\n",
       "    <tr style=\"text-align: right;\">\n",
       "      <th></th>\n",
       "      <th>order_id</th>\n",
       "      <th>customer_name</th>\n",
       "      <th>customer_id</th>\n",
       "      <th>address_id</th>\n",
       "      <th>address</th>\n",
       "      <th>state</th>\n",
       "      <th>country</th>\n",
       "      <th>zip_code</th>\n",
       "      <th>address_length</th>\n",
       "    </tr>\n",
       "  </thead>\n",
       "  <tbody>\n",
       "    <tr>\n",
       "      <th>0</th>\n",
       "      <td>1</td>\n",
       "      <td>John Doe</td>\n",
       "      <td>1</td>\n",
       "      <td>1</td>\n",
       "      <td>123 Main Street</td>\n",
       "      <td>NY</td>\n",
       "      <td>USA</td>\n",
       "      <td>10001</td>\n",
       "      <td>15</td>\n",
       "    </tr>\n",
       "    <tr>\n",
       "      <th>2</th>\n",
       "      <td>2</td>\n",
       "      <td>Jane Smith</td>\n",
       "      <td>2</td>\n",
       "      <td>2</td>\n",
       "      <td>456 Maple Avenue</td>\n",
       "      <td>CA</td>\n",
       "      <td>USA</td>\n",
       "      <td>90001</td>\n",
       "      <td>16</td>\n",
       "    </tr>\n",
       "    <tr>\n",
       "      <th>4</th>\n",
       "      <td>3</td>\n",
       "      <td>Alice Johnson</td>\n",
       "      <td>3</td>\n",
       "      <td>3</td>\n",
       "      <td>789 Elm Road</td>\n",
       "      <td>TX</td>\n",
       "      <td>USA</td>\n",
       "      <td>75001</td>\n",
       "      <td>12</td>\n",
       "    </tr>\n",
       "  </tbody>\n",
       "</table>\n",
       "</div>"
      ],
      "text/plain": [
       "   order_id  customer_name  customer_id  address_id           address state  \\\n",
       "0         1       John Doe            1           1   123 Main Street    NY   \n",
       "2         2     Jane Smith            2           2  456 Maple Avenue    CA   \n",
       "4         3  Alice Johnson            3           3      789 Elm Road    TX   \n",
       "\n",
       "  country zip_code  address_length  \n",
       "0     USA    10001              15  \n",
       "2     USA    90001              16  \n",
       "4     USA    75001              12  "
      ]
     },
     "execution_count": 6,
     "metadata": {},
     "output_type": "execute_result"
    }
   ],
   "source": [
    "result"
   ]
  },
  {
   "cell_type": "code",
   "execution_count": null,
   "metadata": {},
   "outputs": [],
   "source": []
  }
 ],
 "metadata": {
  "kernelspec": {
   "display_name": "cs_fd_env",
   "language": "python",
   "name": "python3"
  },
  "language_info": {
   "codemirror_mode": {
    "name": "ipython",
    "version": 3
   },
   "file_extension": ".py",
   "mimetype": "text/x-python",
   "name": "python",
   "nbconvert_exporter": "python",
   "pygments_lexer": "ipython3",
   "version": "3.10.12"
  }
 },
 "nbformat": 4,
 "nbformat_minor": 2
}
