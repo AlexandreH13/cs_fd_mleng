{
 "cells": [
  {
   "cell_type": "code",
   "execution_count": 1,
   "metadata": {},
   "outputs": [],
   "source": [
    "import pandas as pd\n",
    "from sklearn.preprocessing import OneHotEncoder"
   ]
  },
  {
   "cell_type": "code",
   "execution_count": 15,
   "metadata": {},
   "outputs": [],
   "source": [
    "df = pd.read_csv('../data/raw/fraud_data.csv')"
   ]
  },
  {
   "cell_type": "code",
   "execution_count": 46,
   "metadata": {},
   "outputs": [],
   "source": [
    "class statistics:\n",
    "    \"\"\"_summary_\n",
    "    \"\"\"\n",
    "\n",
    "    def __init__(self, df):\n",
    "        self.df = df\n",
    "        \n",
    "    def get_types(self):\n",
    "        return df.dtypes.value_counts()\n",
    "    \n",
    "    def get_label_statistics(self):\n",
    "        label_values = self.df['is_fraud'].value_counts().index.to_list()\n",
    "        print(f\"Label values encountered: {label_values}\")\n",
    "\n",
    "        not_str_vals = df['is_fraud'][~df['is_fraud'].isin(['0', '1']).values]\n",
    "        print(f\"Not string values: {not_str_vals}\")\n",
    "\n",
    "        print(f\"Not string values count: {not_str_vals.count()}\")\n",
    "\n",
    "    def consolidate(self):\n",
    "        print(\"#####Types#####\")\n",
    "        print(self.get_types())\n",
    "\n",
    "        print(\"#####Label#####\")\n",
    "        self.get_label_statistics()"
   ]
  },
  {
   "cell_type": "code",
   "execution_count": 47,
   "metadata": {},
   "outputs": [
    {
     "name": "stdout",
     "output_type": "stream",
     "text": [
      "#####Types#####\n",
      "object     9\n",
      "float64    5\n",
      "int64      1\n",
      "Name: count, dtype: int64\n",
      "#####Label#####\n",
      "Label values encountered: ['0', '1', '1\"2020-12-24 16:56:24\"', '0\"2019-01-01 00:00:44\"']\n",
      "Not string values: 1781    1\"2020-12-24 16:56:24\"\n",
      "7780    0\"2019-01-01 00:00:44\"\n",
      "Name: is_fraud, dtype: object\n",
      "Not string values count: 2\n"
     ]
    }
   ],
   "source": [
    "stats = statistics(df)\n",
    "stats.consolidate()"
   ]
  },
  {
   "cell_type": "code",
   "execution_count": 10,
   "metadata": {},
   "outputs": [],
   "source": [
    "class prepare_data:\n",
    "    \"\"\"_summary_\n",
    "    \"\"\"\n",
    "    def __init__(self, state):\n",
    "        self.df = pd.read_csv('../data/raw/fraud_data.csv')\n",
    "        self.state = state\n",
    "\n",
    "    def one_hot_encode(self)->pd.DataFrame:\n",
    "        \"\"\"Perform one hot encoding on the categorical columns\n",
    "\n",
    "        Returns:\n",
    "            pd.DataFrame: Data Frame with new encoded columns\n",
    "        \"\"\"\n",
    "        df_res = self.get_state_df(self.df.copy())\n",
    "        categorical_columns = list(df_res.select_dtypes(include=['object'])) # Ignora is_fraud\n",
    "        cols_ignore = ['trans_date_trans_time', 'state', 'trans_num', 'dob', 'is_fraud']\n",
    "        categorical_columns = [x for x in categorical_columns if x not in cols_ignore]\n",
    "        one_hot_encoded_df = pd.get_dummies(df_res, columns=categorical_columns, dtype='int')\n",
    "\n",
    "        one_hot_encoded_df = one_hot_encoded_df.drop(columns=cols_ignore[:-1], axis=1)\n",
    "        one_hot_encoded_df['state'] = df_res['state']\n",
    "        return one_hot_encoded_df\n",
    "    \n",
    "    def convert_to_int(self, value):\n",
    "        \"\"\"Convert str values to int.\n",
    "\n",
    "        Args:\n",
    "            value (str, object): column value\n",
    "\n",
    "        Returns:\n",
    "            int: converted value\n",
    "        \"\"\"\n",
    "        try:\n",
    "            return int(value)  # Tentar converter para inteiro\n",
    "        except (ValueError, TypeError):\n",
    "            return None  # Substituir valores inválidos por None\n",
    "    \n",
    "    def fix_data_types(self)->pd.DataFrame:\n",
    "        \"\"\"Fix the data type on the label column(is_fraud).\n",
    "\n",
    "        Returns:\n",
    "            pd.DataFrame: DataFrame ready for modeling.\n",
    "        \"\"\"\n",
    "        df_res = self.one_hot_encode()\n",
    "        label = df_res['is_fraud']\n",
    "        print(f\"Invalid: {label[~label.isin(['0', '1'])].index}\")\n",
    "\n",
    "        df_res = df_res.iloc[label[label.isin(['0', '1'])].index] ## Keep only valid data\n",
    "        label = label.apply(self.convert_to_int)\n",
    "        df_res['is_fraud'] = label\n",
    "        return df_res\n",
    "    \n",
    "    def get_state_df(self, df):\n",
    "        \"\"\"Filter the DataFrame by state.\n",
    "\n",
    "        Args:\n",
    "            df (pd.DataFrame): DataFrame to filter\n",
    "\n",
    "        Returns:\n",
    "            pd.DataFrame: Filtered DataFrame\n",
    "        \"\"\"\n",
    "        df_to_save = df\n",
    "        return df_to_save[df_to_save['state'] == self.state].reset_index(drop=True)\n",
    "\n",
    "    def run(self):\n",
    "        \"\"\"Execute all the steps to prepare the data. Save inside the processed folder.\n",
    "        \"\"\"\n",
    "        df_model = self.fix_data_types().sample(frac=1)\n",
    "        df_model.to_csv(f'../data/processed/train_{self.state}.csv', index=False)\n",
    "\n",
    "    def simplified_version(self):\n",
    "        \"\"\"Save a simplified version of the DF\n",
    "           FOR TEST ONLY\n",
    "        \"\"\"\n",
    "        df_to_save = self.fix_data_types()\n",
    "        df_to_save = df_to_save[['amt', 'city_pop', 'lat', 'long', 'is_fraud', 'state']].sample(frac=1)\n",
    "        df_to_save[df_to_save['state'] == self.state].to_csv(f'../data/processed/train_{self.state}_simp.csv', index=False)\n",
    "\n",
    "    def get_json_format(self, df):\n",
    "        \"\"\"Convert from DataFrame to JSON format. \n",
    "           FOR TEST ONLY\n",
    "        \"\"\"\n",
    "\n",
    "        df_json = df.to_json(orient='records')\n",
    "        return df_json\n"
   ]
  },
  {
   "cell_type": "code",
   "execution_count": 7,
   "metadata": {},
   "outputs": [],
   "source": [
    "df = pd.read_csv('../data/raw/fraud_data.csv')\n",
    "states = df['state'].unique()"
   ]
  },
  {
   "cell_type": "code",
   "execution_count": 11,
   "metadata": {},
   "outputs": [
    {
     "name": "stdout",
     "output_type": "stream",
     "text": [
      "Invalid: Index([], dtype='int64')\n",
      "Invalid: Index([], dtype='int64')\n",
      "Invalid: Index([], dtype='int64')\n",
      "Invalid: Index([401], dtype='int64')\n",
      "Invalid: Index([], dtype='int64')\n",
      "Invalid: Index([], dtype='int64')\n",
      "Invalid: Index([], dtype='int64')\n",
      "Invalid: Index([], dtype='int64')\n",
      "Invalid: Index([], dtype='int64')\n",
      "Invalid: Index([], dtype='int64')\n",
      "Invalid: Index([], dtype='int64')\n",
      "Invalid: Index([168], dtype='int64')\n",
      "Invalid: Index([], dtype='int64')\n"
     ]
    }
   ],
   "source": [
    "for state in states:\n",
    "    prep = prepare_data(state)\n",
    "    prep.run()"
   ]
  },
  {
   "cell_type": "code",
   "execution_count": null,
   "metadata": {},
   "outputs": [],
   "source": []
  }
 ],
 "metadata": {
  "kernelspec": {
   "display_name": "cs_fd_env",
   "language": "python",
   "name": "python3"
  },
  "language_info": {
   "codemirror_mode": {
    "name": "ipython",
    "version": 3
   },
   "file_extension": ".py",
   "mimetype": "text/x-python",
   "name": "python",
   "nbconvert_exporter": "python",
   "pygments_lexer": "ipython3",
   "version": "3.10.12"
  }
 },
 "nbformat": 4,
 "nbformat_minor": 2
}
